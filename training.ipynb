{
 "cells": [
  {
   "cell_type": "code",
   "execution_count": 1,
   "id": "f9ca6283",
   "metadata": {},
   "outputs": [],
   "source": [
    "import os\n",
    "import cv2\n",
    "import matplotlib.pyplot as plt\n",
    "import tensorflow as tf\n",
    "from tensorflow.keras import models, layers\n",
    "from tensorflow.keras.preprocessing.image import ImageDataGenerator, array_to_img, img_to_array, load_img"
   ]
  },
  {
   "cell_type": "code",
   "execution_count": 2,
   "id": "d64e2fbc",
   "metadata": {},
   "outputs": [],
   "source": [
    "my_list = os.listdir('train')"
   ]
  },
  {
   "cell_type": "code",
   "execution_count": 3,
   "id": "b0b8cbd8",
   "metadata": {},
   "outputs": [
    {
     "name": "stdout",
     "output_type": "stream",
     "text": [
      "train  , 0\n",
      "train\\angry  , 3995\n",
      "train\\disgust  , 3148\n",
      "train\\fear  , 4097\n",
      "train\\happy  , 7215\n",
      "train\\neutral  , 4965\n",
      "train\\sad  , 4830\n",
      "train\\surprise  , 3171\n"
     ]
    }
   ],
   "source": [
    "# number of images in each floder\n",
    "for dir,subdir,files in os.walk('train'):\n",
    "    print (dir,' ,', str(len(files)))"
   ]
  },
  {
   "cell_type": "code",
   "execution_count": 4,
   "id": "b1c15a52",
   "metadata": {},
   "outputs": [],
   "source": [
    "img_size = 48\n",
    "batch_size = 32"
   ]
  },
  {
   "cell_type": "code",
   "execution_count": 6,
   "id": "5d28a711",
   "metadata": {},
   "outputs": [],
   "source": [
    "train_dir = 'train/'\n",
    "test_dir = 'test/'"
   ]
  },
  {
   "cell_type": "code",
   "execution_count": 7,
   "id": "e709f046",
   "metadata": {},
   "outputs": [
    {
     "name": "stdout",
     "output_type": "stream",
     "text": [
      "Found 31421 images belonging to 7 classes.\n",
      "Found 7178 images belonging to 7 classes.\n"
     ]
    }
   ],
   "source": [
    "datagen_train =  tf.keras.preprocessing.image.ImageDataGenerator(horizontal_flip=True,brightness_range=[0.8,1.2],rescale=1./255)\n",
    "train_generator = datagen_train.flow_from_directory(train_dir,\n",
    "                                                  target_size=(img_size,img_size),\n",
    "                                                  batch_size=batch_size,\n",
    "                                                  shuffle=True,\n",
    "                                                  color_mode='grayscale',\n",
    "                                                  class_mode='categorical')\n",
    "\n",
    "datagen_validation =  tf.keras.preprocessing.image.ImageDataGenerator(horizontal_flip=True,brightness_range=[0.8,1.2],rescale=1./255)\n",
    "validation_generator = datagen_train.flow_from_directory(test_dir,\n",
    "                                                  target_size=(img_size,img_size),\n",
    "                                                  batch_size=batch_size,\n",
    "                                                  shuffle=False,\n",
    "                                                  color_mode='grayscale',\n",
    "                                                  class_mode='categorical')"
   ]
  },
  {
   "cell_type": "code",
   "execution_count": 8,
   "id": "42dacbcf",
   "metadata": {},
   "outputs": [
    {
     "name": "stdout",
     "output_type": "stream",
     "text": [
      "Model: \"sequential\"\n",
      "_________________________________________________________________\n",
      " Layer (type)                Output Shape              Param #   \n",
      "=================================================================\n",
      " conv2d (Conv2D)             (None, 48, 48, 64)        640       \n",
      "                                                                 \n",
      " batch_normalization (BatchN  (None, 48, 48, 64)       256       \n",
      " ormalization)                                                   \n",
      "                                                                 \n",
      " activation (Activation)     (None, 48, 48, 64)        0         \n",
      "                                                                 \n",
      " max_pooling2d (MaxPooling2D  (None, 24, 24, 64)       0         \n",
      " )                                                               \n",
      "                                                                 \n",
      " dropout (Dropout)           (None, 24, 24, 64)        0         \n",
      "                                                                 \n",
      " conv2d_1 (Conv2D)           (None, 24, 24, 128)       204928    \n",
      "                                                                 \n",
      " batch_normalization_1 (Batc  (None, 24, 24, 128)      512       \n",
      " hNormalization)                                                 \n",
      "                                                                 \n",
      " activation_1 (Activation)   (None, 24, 24, 128)       0         \n",
      "                                                                 \n",
      " max_pooling2d_1 (MaxPooling  (None, 12, 12, 128)      0         \n",
      " 2D)                                                             \n",
      "                                                                 \n",
      " dropout_1 (Dropout)         (None, 12, 12, 128)       0         \n",
      "                                                                 \n",
      " conv2d_2 (Conv2D)           (None, 12, 12, 512)       590336    \n",
      "                                                                 \n",
      " batch_normalization_2 (Batc  (None, 12, 12, 512)      2048      \n",
      " hNormalization)                                                 \n",
      "                                                                 \n",
      " activation_2 (Activation)   (None, 12, 12, 512)       0         \n",
      "                                                                 \n",
      " max_pooling2d_2 (MaxPooling  (None, 6, 6, 512)        0         \n",
      " 2D)                                                             \n",
      "                                                                 \n",
      " dropout_2 (Dropout)         (None, 6, 6, 512)         0         \n",
      "                                                                 \n",
      " conv2d_3 (Conv2D)           (None, 6, 6, 512)         2359808   \n",
      "                                                                 \n",
      " batch_normalization_3 (Batc  (None, 6, 6, 512)        2048      \n",
      " hNormalization)                                                 \n",
      "                                                                 \n",
      " activation_3 (Activation)   (None, 6, 6, 512)         0         \n",
      "                                                                 \n",
      " max_pooling2d_3 (MaxPooling  (None, 3, 3, 512)        0         \n",
      " 2D)                                                             \n",
      "                                                                 \n",
      " dropout_3 (Dropout)         (None, 3, 3, 512)         0         \n",
      "                                                                 \n",
      " flatten (Flatten)           (None, 4608)              0         \n",
      "                                                                 \n",
      " dropout_4 (Dropout)         (None, 4608)              0         \n",
      "                                                                 \n",
      " dense (Dense)               (None, 7)                 32263     \n",
      "                                                                 \n",
      "=================================================================\n",
      "Total params: 3,192,839\n",
      "Trainable params: 3,190,407\n",
      "Non-trainable params: 2,432\n",
      "_________________________________________________________________\n"
     ]
    }
   ],
   "source": [
    "# Initialising the CNN\n",
    "model = tf.keras.Sequential()\n",
    "\n",
    "# 1 - Convolution\n",
    "model.add(tf.keras.layers.Conv2D(64,(3,3), padding='same', input_shape=(48, 48,1)))\n",
    "model.add(tf.keras.layers.BatchNormalization())\n",
    "model.add(tf.keras.layers.Activation('relu'))\n",
    "model.add(tf.keras.layers.MaxPooling2D(pool_size=(2, 2)))\n",
    "model.add(tf.keras.layers.Dropout(0.25))\n",
    "\n",
    "# 2nd Convolution layer\n",
    "model.add(tf.keras.layers.Conv2D(128,(5,5), padding='same'))\n",
    "model.add(tf.keras.layers.BatchNormalization())\n",
    "model.add(tf.keras.layers.Activation('relu'))\n",
    "model.add(tf.keras.layers.MaxPooling2D(pool_size=(2, 2)))\n",
    "model.add(tf.keras.layers.Dropout(0.25))\n",
    "\n",
    "# 3rd Convolution layer\n",
    "model.add(tf.keras.layers.Conv2D(512,(3,3), padding='same'))\n",
    "model.add(tf.keras.layers.BatchNormalization())\n",
    "model.add(tf.keras.layers.Activation('relu'))\n",
    "model.add(tf.keras.layers.MaxPooling2D(pool_size=(2, 2)))\n",
    "model.add(tf.keras.layers.Dropout(0.25))\n",
    "\n",
    "# 4th Convolution layer\n",
    "model.add(tf.keras.layers.Conv2D(512,(3,3), padding='same'))\n",
    "model.add(tf.keras.layers.BatchNormalization())\n",
    "model.add(tf.keras.layers.Activation('relu'))\n",
    "model.add(tf.keras.layers.MaxPooling2D(pool_size=(2, 2)))\n",
    "model.add(tf.keras.layers.Dropout(0.25))\n",
    "\n",
    "# Flattening\n",
    "model.add(tf.keras.layers.Flatten())\n",
    "\n",
    "# Fully connected layer 1st layer\n",
    "\n",
    "model.add(tf.keras.layers.Dropout(0.25))\n",
    "\n",
    "# output layer \n",
    "model.add(tf.keras.layers.Dense(7, activation='softmax'))\n",
    "\n",
    "# compiling the model\n",
    "opt = tf.keras.optimizers.Adam(learning_rate=0.0005)\n",
    "model.compile(optimizer=opt, loss='categorical_crossentropy', metrics=['accuracy'])\n",
    "model.summary()"
   ]
  },
  {
   "cell_type": "code",
   "execution_count": 9,
   "id": "2d8186f2",
   "metadata": {},
   "outputs": [
    {
     "data": {
      "text/plain": [
       "981"
      ]
     },
     "execution_count": 9,
     "metadata": {},
     "output_type": "execute_result"
    }
   ],
   "source": [
    "epochs=50\n",
    "steps_per_epoch=train_generator.n//train_generator.batch_size\n",
    "steps_per_epoch"
   ]
  },
  {
   "cell_type": "code",
   "execution_count": 10,
   "id": "9642afa8",
   "metadata": {},
   "outputs": [
    {
     "data": {
      "text/plain": [
       "224"
      ]
     },
     "execution_count": 10,
     "metadata": {},
     "output_type": "execute_result"
    }
   ],
   "source": [
    "validation_steps=validation_generator.n//validation_generator.batch_size\n",
    "validation_steps"
   ]
  },
  {
   "cell_type": "code",
   "execution_count": 11,
   "id": "0b848350",
   "metadata": {},
   "outputs": [],
   "source": [
    "#  adding various CAllBacks to prevent overfiiting\n",
    "# this decreases the learning rate if the model loss does not decrease \n",
    "reduce_lr = tf.keras.callbacks.ReduceLROnPlateau(monitor='val_loss', factor=0.1,\n",
    "                              patience=2, min_lr=0.00001, mode='auto')\n",
    "# to save model weights \n",
    "checkpoint = tf.keras.callbacks.ModelCheckpoint(\"model_weights.h5\", monitor='val_accuracy',\n",
    "                             save_weights_only=True, mode='max', verbose=1)\n",
    "early_stopping= tf.keras.callbacks.EarlyStopping(monitor='val_loss',\n",
    "                            min_delta=0,\n",
    "                            patience=5,\n",
    "                            verbose=1,\n",
    "                            restore_best_weights=True)\n",
    "callbacks = [checkpoint, reduce_lr, early_stopping]"
   ]
  },
  {
   "cell_type": "code",
   "execution_count": 12,
   "id": "8bb2fcb2",
   "metadata": {},
   "outputs": [
    {
     "name": "stdout",
     "output_type": "stream",
     "text": [
      "Epoch 1/50\n",
      "981/981 [==============================] - ETA: 0s - loss: 2.1018 - accuracy: 0.2971\n",
      "Epoch 1: saving model to model_weights.h5\n",
      "981/981 [==============================] - 549s 542ms/step - loss: 2.1018 - accuracy: 0.2971 - val_loss: 1.5881 - val_accuracy: 0.3834 - lr: 5.0000e-04\n",
      "Epoch 2/50\n",
      "981/981 [==============================] - ETA: 0s - loss: 1.5723 - accuracy: 0.4384\n",
      "Epoch 2: saving model to model_weights.h5\n",
      "981/981 [==============================] - 145s 147ms/step - loss: 1.5723 - accuracy: 0.4384 - val_loss: 1.6509 - val_accuracy: 0.4022 - lr: 5.0000e-04\n",
      "Epoch 3/50\n",
      "981/981 [==============================] - ETA: 0s - loss: 1.3650 - accuracy: 0.4975\n",
      "Epoch 3: saving model to model_weights.h5\n",
      "981/981 [==============================] - 49s 50ms/step - loss: 1.3650 - accuracy: 0.4975 - val_loss: 1.5173 - val_accuracy: 0.4468 - lr: 5.0000e-04\n",
      "Epoch 4/50\n",
      "980/981 [============================>.] - ETA: 0s - loss: 1.2610 - accuracy: 0.5304\n",
      "Epoch 4: saving model to model_weights.h5\n",
      "981/981 [==============================] - 47s 48ms/step - loss: 1.2612 - accuracy: 0.5304 - val_loss: 1.4993 - val_accuracy: 0.4011 - lr: 5.0000e-04\n",
      "Epoch 5/50\n",
      "981/981 [==============================] - ETA: 0s - loss: 1.1956 - accuracy: 0.5484\n",
      "Epoch 5: saving model to model_weights.h5\n",
      "981/981 [==============================] - 55s 56ms/step - loss: 1.1956 - accuracy: 0.5484 - val_loss: 1.2818 - val_accuracy: 0.5234 - lr: 5.0000e-04\n",
      "Epoch 6/50\n",
      "981/981 [==============================] - ETA: 0s - loss: 1.1519 - accuracy: 0.5687\n",
      "Epoch 6: saving model to model_weights.h5\n",
      "981/981 [==============================] - 51s 52ms/step - loss: 1.1519 - accuracy: 0.5687 - val_loss: 1.1719 - val_accuracy: 0.5640 - lr: 5.0000e-04\n",
      "Epoch 7/50\n",
      "981/981 [==============================] - ETA: 0s - loss: 1.1042 - accuracy: 0.5873\n",
      "Epoch 7: saving model to model_weights.h5\n",
      "981/981 [==============================] - 53s 54ms/step - loss: 1.1042 - accuracy: 0.5873 - val_loss: 1.2314 - val_accuracy: 0.5346 - lr: 5.0000e-04\n",
      "Epoch 8/50\n",
      "980/981 [============================>.] - ETA: 0s - loss: 1.0717 - accuracy: 0.6005\n",
      "Epoch 8: saving model to model_weights.h5\n",
      "981/981 [==============================] - 52s 53ms/step - loss: 1.0716 - accuracy: 0.6006 - val_loss: 1.4981 - val_accuracy: 0.4503 - lr: 5.0000e-04\n",
      "Epoch 9/50\n",
      "981/981 [==============================] - ETA: 0s - loss: 0.9788 - accuracy: 0.6368\n",
      "Epoch 9: saving model to model_weights.h5\n",
      "981/981 [==============================] - 52s 53ms/step - loss: 0.9788 - accuracy: 0.6368 - val_loss: 1.0766 - val_accuracy: 0.6027 - lr: 5.0000e-05\n",
      "Epoch 10/50\n",
      "981/981 [==============================] - ETA: 0s - loss: 0.9542 - accuracy: 0.6452\n",
      "Epoch 10: saving model to model_weights.h5\n",
      "981/981 [==============================] - 55s 56ms/step - loss: 0.9542 - accuracy: 0.6452 - val_loss: 1.0741 - val_accuracy: 0.6046 - lr: 5.0000e-05\n",
      "Epoch 11/50\n",
      "981/981 [==============================] - ETA: 0s - loss: 0.9328 - accuracy: 0.6554\n",
      "Epoch 11: saving model to model_weights.h5\n",
      "981/981 [==============================] - 53s 54ms/step - loss: 0.9328 - accuracy: 0.6554 - val_loss: 1.0612 - val_accuracy: 0.6140 - lr: 5.0000e-05\n",
      "Epoch 12/50\n",
      "980/981 [============================>.] - ETA: 0s - loss: 0.9318 - accuracy: 0.6577\n",
      "Epoch 12: saving model to model_weights.h5\n",
      "981/981 [==============================] - 53s 54ms/step - loss: 0.9318 - accuracy: 0.6577 - val_loss: 1.0469 - val_accuracy: 0.6196 - lr: 5.0000e-05\n",
      "Epoch 13/50\n",
      "981/981 [==============================] - ETA: 0s - loss: 0.9190 - accuracy: 0.6594\n",
      "Epoch 13: saving model to model_weights.h5\n",
      "981/981 [==============================] - 53s 54ms/step - loss: 0.9190 - accuracy: 0.6594 - val_loss: 1.0446 - val_accuracy: 0.6176 - lr: 5.0000e-05\n",
      "Epoch 14/50\n",
      "981/981 [==============================] - ETA: 0s - loss: 0.9044 - accuracy: 0.6654\n",
      "Epoch 14: saving model to model_weights.h5\n",
      "981/981 [==============================] - 51s 52ms/step - loss: 0.9044 - accuracy: 0.6654 - val_loss: 1.0445 - val_accuracy: 0.6165 - lr: 5.0000e-05\n",
      "Epoch 15/50\n",
      "981/981 [==============================] - ETA: 0s - loss: 0.8985 - accuracy: 0.6663\n",
      "Epoch 15: saving model to model_weights.h5\n",
      "981/981 [==============================] - 53s 54ms/step - loss: 0.8985 - accuracy: 0.6663 - val_loss: 1.0439 - val_accuracy: 0.6183 - lr: 5.0000e-05\n",
      "Epoch 16/50\n",
      "981/981 [==============================] - ETA: 0s - loss: 0.8914 - accuracy: 0.6692\n",
      "Epoch 16: saving model to model_weights.h5\n",
      "981/981 [==============================] - 51s 52ms/step - loss: 0.8914 - accuracy: 0.6692 - val_loss: 1.0268 - val_accuracy: 0.6253 - lr: 5.0000e-05\n",
      "Epoch 17/50\n",
      "981/981 [==============================] - ETA: 0s - loss: 0.8823 - accuracy: 0.6733\n",
      "Epoch 17: saving model to model_weights.h5\n",
      "981/981 [==============================] - 54s 55ms/step - loss: 0.8823 - accuracy: 0.6733 - val_loss: 1.0266 - val_accuracy: 0.6240 - lr: 5.0000e-05\n",
      "Epoch 18/50\n",
      "980/981 [============================>.] - ETA: 0s - loss: 0.8760 - accuracy: 0.6750\n",
      "Epoch 18: saving model to model_weights.h5\n",
      "981/981 [==============================] - 52s 53ms/step - loss: 0.8757 - accuracy: 0.6751 - val_loss: 1.0396 - val_accuracy: 0.6200 - lr: 5.0000e-05\n",
      "Epoch 19/50\n",
      "981/981 [==============================] - ETA: 0s - loss: 0.8668 - accuracy: 0.6780\n",
      "Epoch 19: saving model to model_weights.h5\n",
      "981/981 [==============================] - 53s 54ms/step - loss: 0.8668 - accuracy: 0.6780 - val_loss: 1.0176 - val_accuracy: 0.6289 - lr: 5.0000e-05\n",
      "Epoch 20/50\n",
      "980/981 [============================>.] - ETA: 0s - loss: 0.8601 - accuracy: 0.6798\n",
      "Epoch 20: saving model to model_weights.h5\n",
      "981/981 [==============================] - 53s 54ms/step - loss: 0.8600 - accuracy: 0.6799 - val_loss: 1.0166 - val_accuracy: 0.6314 - lr: 5.0000e-05\n",
      "Epoch 21/50\n",
      "981/981 [==============================] - ETA: 0s - loss: 0.8574 - accuracy: 0.6808\n",
      "Epoch 21: saving model to model_weights.h5\n",
      "981/981 [==============================] - 54s 55ms/step - loss: 0.8574 - accuracy: 0.6808 - val_loss: 1.0143 - val_accuracy: 0.6309 - lr: 5.0000e-05\n",
      "Epoch 22/50\n",
      "981/981 [==============================] - ETA: 0s - loss: 0.8487 - accuracy: 0.6872\n",
      "Epoch 22: saving model to model_weights.h5\n",
      "981/981 [==============================] - 53s 54ms/step - loss: 0.8487 - accuracy: 0.6872 - val_loss: 1.0124 - val_accuracy: 0.6271 - lr: 5.0000e-05\n",
      "Epoch 23/50\n",
      "980/981 [============================>.] - ETA: 0s - loss: 0.8434 - accuracy: 0.6862\n",
      "Epoch 23: saving model to model_weights.h5\n",
      "981/981 [==============================] - 55s 56ms/step - loss: 0.8433 - accuracy: 0.6862 - val_loss: 1.0243 - val_accuracy: 0.6296 - lr: 5.0000e-05\n",
      "Epoch 24/50\n",
      "981/981 [==============================] - ETA: 0s - loss: 0.8353 - accuracy: 0.6922\n",
      "Epoch 24: saving model to model_weights.h5\n",
      "981/981 [==============================] - 55s 56ms/step - loss: 0.8353 - accuracy: 0.6922 - val_loss: 1.0075 - val_accuracy: 0.6321 - lr: 5.0000e-05\n",
      "Epoch 25/50\n",
      "981/981 [==============================] - ETA: 0s - loss: 0.8273 - accuracy: 0.6930\n",
      "Epoch 25: saving model to model_weights.h5\n",
      "981/981 [==============================] - 55s 56ms/step - loss: 0.8273 - accuracy: 0.6930 - val_loss: 1.0452 - val_accuracy: 0.6254 - lr: 5.0000e-05\n",
      "Epoch 26/50\n",
      "980/981 [============================>.] - ETA: 0s - loss: 0.8231 - accuracy: 0.6936\n",
      "Epoch 26: saving model to model_weights.h5\n",
      "981/981 [==============================] - 53s 54ms/step - loss: 0.8231 - accuracy: 0.6936 - val_loss: 1.0321 - val_accuracy: 0.6296 - lr: 5.0000e-05\n",
      "Epoch 27/50\n",
      "981/981 [==============================] - ETA: 0s - loss: 0.8112 - accuracy: 0.7008\n",
      "Epoch 27: saving model to model_weights.h5\n",
      "981/981 [==============================] - 56s 57ms/step - loss: 0.8112 - accuracy: 0.7008 - val_loss: 0.9974 - val_accuracy: 0.6395 - lr: 1.0000e-05\n",
      "Epoch 28/50\n",
      "981/981 [==============================] - ETA: 0s - loss: 0.8029 - accuracy: 0.7040\n",
      "Epoch 28: saving model to model_weights.h5\n",
      "981/981 [==============================] - 56s 57ms/step - loss: 0.8029 - accuracy: 0.7040 - val_loss: 0.9985 - val_accuracy: 0.6392 - lr: 1.0000e-05\n",
      "Epoch 29/50\n"
     ]
    },
    {
     "name": "stdout",
     "output_type": "stream",
     "text": [
      "981/981 [==============================] - ETA: 0s - loss: 0.8047 - accuracy: 0.7027\n",
      "Epoch 29: saving model to model_weights.h5\n",
      "981/981 [==============================] - 149s 152ms/step - loss: 0.8047 - accuracy: 0.7027 - val_loss: 0.9986 - val_accuracy: 0.6403 - lr: 1.0000e-05\n",
      "Epoch 30/50\n",
      "981/981 [==============================] - ETA: 0s - loss: 0.7987 - accuracy: 0.7024\n",
      "Epoch 30: saving model to model_weights.h5\n",
      "981/981 [==============================] - 80s 82ms/step - loss: 0.7987 - accuracy: 0.7024 - val_loss: 0.9984 - val_accuracy: 0.6387 - lr: 1.0000e-05\n",
      "Epoch 31/50\n",
      "981/981 [==============================] - ETA: 0s - loss: 0.8047 - accuracy: 0.7032\n",
      "Epoch 31: saving model to model_weights.h5\n",
      "981/981 [==============================] - 48s 49ms/step - loss: 0.8047 - accuracy: 0.7032 - val_loss: 1.0035 - val_accuracy: 0.6396 - lr: 1.0000e-05\n",
      "Epoch 32/50\n",
      "980/981 [============================>.] - ETA: 0s - loss: 0.8031 - accuracy: 0.7019\n",
      "Epoch 32: saving model to model_weights.h5\n",
      "981/981 [==============================] - 51s 52ms/step - loss: 0.8029 - accuracy: 0.7019 - val_loss: 0.9915 - val_accuracy: 0.6413 - lr: 1.0000e-05\n",
      "Epoch 33/50\n",
      "980/981 [============================>.] - ETA: 0s - loss: 0.7945 - accuracy: 0.7070\n",
      "Epoch 33: saving model to model_weights.h5\n",
      "981/981 [==============================] - 51s 52ms/step - loss: 0.7947 - accuracy: 0.7068 - val_loss: 0.9988 - val_accuracy: 0.6390 - lr: 1.0000e-05\n",
      "Epoch 34/50\n",
      "980/981 [============================>.] - ETA: 0s - loss: 0.7969 - accuracy: 0.7044\n",
      "Epoch 34: saving model to model_weights.h5\n",
      "981/981 [==============================] - 51s 52ms/step - loss: 0.7972 - accuracy: 0.7043 - val_loss: 0.9986 - val_accuracy: 0.6392 - lr: 1.0000e-05\n",
      "Epoch 35/50\n",
      "981/981 [==============================] - ETA: 0s - loss: 0.7939 - accuracy: 0.7056\n",
      "Epoch 35: saving model to model_weights.h5\n",
      "981/981 [==============================] - 59s 60ms/step - loss: 0.7939 - accuracy: 0.7056 - val_loss: 0.9944 - val_accuracy: 0.6440 - lr: 1.0000e-05\n",
      "Epoch 36/50\n",
      "981/981 [==============================] - ETA: 0s - loss: 0.7933 - accuracy: 0.7053\n",
      "Epoch 36: saving model to model_weights.h5\n",
      "981/981 [==============================] - 62s 64ms/step - loss: 0.7933 - accuracy: 0.7053 - val_loss: 0.9947 - val_accuracy: 0.6402 - lr: 1.0000e-05\n",
      "Epoch 37/50\n",
      "980/981 [============================>.] - ETA: 0s - loss: 0.7950 - accuracy: 0.7049\n",
      "Epoch 37: saving model to model_weights.h5\n",
      "981/981 [==============================] - 54s 55ms/step - loss: 0.7950 - accuracy: 0.7048 - val_loss: 0.9880 - val_accuracy: 0.6444 - lr: 1.0000e-05\n",
      "Epoch 38/50\n",
      "981/981 [==============================] - ETA: 0s - loss: 0.7944 - accuracy: 0.7082\n",
      "Epoch 38: saving model to model_weights.h5\n",
      "981/981 [==============================] - 59s 60ms/step - loss: 0.7944 - accuracy: 0.7082 - val_loss: 0.9935 - val_accuracy: 0.6445 - lr: 1.0000e-05\n",
      "Epoch 39/50\n",
      "980/981 [============================>.] - ETA: 0s - loss: 0.7876 - accuracy: 0.7096\n",
      "Epoch 39: saving model to model_weights.h5\n",
      "981/981 [==============================] - 62s 63ms/step - loss: 0.7876 - accuracy: 0.7096 - val_loss: 0.9912 - val_accuracy: 0.6423 - lr: 1.0000e-05\n",
      "Epoch 40/50\n",
      "981/981 [==============================] - ETA: 0s - loss: 0.7895 - accuracy: 0.7062\n",
      "Epoch 40: saving model to model_weights.h5\n",
      "981/981 [==============================] - 60s 61ms/step - loss: 0.7895 - accuracy: 0.7062 - val_loss: 0.9952 - val_accuracy: 0.6394 - lr: 1.0000e-05\n",
      "Epoch 41/50\n",
      "980/981 [============================>.] - ETA: 0s - loss: 0.7844 - accuracy: 0.7121\n",
      "Epoch 41: saving model to model_weights.h5\n",
      "981/981 [==============================] - 56s 57ms/step - loss: 0.7842 - accuracy: 0.7123 - val_loss: 0.9975 - val_accuracy: 0.6409 - lr: 1.0000e-05\n",
      "Epoch 42/50\n",
      "980/981 [============================>.] - ETA: 0s - loss: 0.7850 - accuracy: 0.7105\n",
      "Epoch 42: saving model to model_weights.h5\n",
      "Restoring model weights from the end of the best epoch: 37.\n",
      "981/981 [==============================] - 65s 66ms/step - loss: 0.7850 - accuracy: 0.7105 - val_loss: 0.9884 - val_accuracy: 0.6447 - lr: 1.0000e-05\n",
      "Epoch 42: early stopping\n"
     ]
    }
   ],
   "source": [
    "# fitting the model\n",
    "history = model.fit(\n",
    "    x=train_generator,\n",
    "    steps_per_epoch=steps_per_epoch,\n",
    "    epochs=epochs,\n",
    "    validation_data = validation_generator,\n",
    "    validation_steps = validation_steps,\n",
    "    callbacks=callbacks,\n",
    "    verbose=1)"
   ]
  },
  {
   "cell_type": "code",
   "execution_count": 14,
   "id": "ee8fa392",
   "metadata": {},
   "outputs": [
    {
     "data": {
      "image/png": "[encoded data removed]",
      "text/plain": [
       "<Figure size 1440x720 with 2 Axes>"
      ]
     },
     "metadata": {},
     "output_type": "display_data"
    }
   ],
   "source": [
    "plt.style.use('dark_background')\n",
    "\n",
    "plt.figure(figsize=(20,10))\n",
    "plt.subplot(1, 2, 1)\n",
    "plt.suptitle('Optimizer : Adam', fontsize=10)\n",
    "plt.ylabel('Loss', fontsize=16)\n",
    "plt.plot(history.history['loss'], label='Training Loss')\n",
    "plt.plot(history.history['val_loss'], label='Validation Loss')\n",
    "plt.legend(loc='upper right')\n",
    "\n",
    "plt.subplot(1, 2, 2)\n",
    "plt.ylabel('Accuracy', fontsize=16)\n",
    "plt.plot(history.history['accuracy'], label='Training Accuracy')\n",
    "plt.plot(history.history['val_accuracy'], label='Validation Accuracy')\n",
    "plt.legend(loc='lower right')\n",
    "plt.show()"
   ]
  },
  {
   "cell_type": "code",
   "execution_count": 15,
   "id": "dbe7874d",
   "metadata": {},
   "outputs": [],
   "source": [
    "model_json = model.to_json()\n",
    "with open(\"basemodel.json\", \"w\") as json_file:\n",
    "    json_file.write(model_json)"
   ]
  },
  {
   "cell_type": "code",
   "execution_count": null,
   "id": "717e9687",
   "metadata": {},
   "outputs": [],
   "source": []
  }
 ],
 "metadata": {
  "kernelspec": {
   "display_name": "emotion",
   "language": "python",
   "name": "emotion"
  },
  "language_info": {
   "codemirror_mode": {
    "name": "ipython",
    "version": 3
   },
   "file_extension": ".py",
   "mimetype": "text/x-python",
   "name": "python",
   "nbconvert_exporter": "python",
   "pygments_lexer": "ipython3",
   "version": "3.9.12"
  }
 },
 "nbformat": 4,
 "nbformat_minor": 5
}
